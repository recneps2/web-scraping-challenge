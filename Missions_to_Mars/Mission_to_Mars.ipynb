{
 "cells": [
  {
   "cell_type": "code",
   "execution_count": null,
   "metadata": {},
   "outputs": [],
   "source": [
    "#dependancies\n",
    "\n",
    "import pandas as pd\n",
    "import requests\n",
    "import html\n",
    "import time\n",
    "from bs4 import BeautifulSoup\n",
    "from splinter import Browser"
   ]
  },
  {
   "cell_type": "code",
   "execution_count": null,
   "metadata": {},
   "outputs": [],
   "source": [
    "browser = Browser('chrome')"
   ]
  },
  {
   "cell_type": "code",
   "execution_count": null,
   "metadata": {},
   "outputs": [],
   "source": [
    "\n",
    "# URL of page to be scraped\n",
    "url = 'https://mars.nasa.gov/news/'\n",
    "\n",
    "# Retrieve page with the requests module\n",
    "browser.visit(url)\n",
    "\n",
    "# Create BeautifulSoup object; parse with 'html.parser'\n",
    "soup = BeautifulSoup(browser.html, 'html.parser')\n",
    "\n",
    "results = soup.find('div', class_='list_text').a.text\n",
    "results\n",
    "results2 = soup.find('div', class_='article_teaser_body').text\n",
    "\n",
    "mars_data = {\n",
    "    'Title' : results, \n",
    "    'Paragraph' : results2,\n",
    "}\n",
    "mars_data"
   ]
  },
  {
   "cell_type": "code",
   "execution_count": null,
   "metadata": {},
   "outputs": [],
   "source": [
    "#this the webpage must have chaged since this HW was done and the below code no longer works...\n",
    "#url = 'https://www.jpl.nasa.gov/spaceimages/?search=&category=Mars'\n",
    "#browser.visit(url)\n",
    "#time.sleep(1)\n",
    "#browser.find_by_id(\"full_image\").click()\n",
    "\n",
    "#time.sleep(2)\n",
    "\n",
    "#browser.find_link_by_partial_text(\"more info\").click()\n",
    "\n",
    "#time.sleep(2)\n",
    "#soup = BeautifulSoup(browser.html, 'html.parser')\n",
    "#picture = soup.find('figure', class_='lede').a.img[\"src\"]\n",
    "#picture\n",
    "\n",
    "#used this instead\n",
    "url = 'https://www.jpl.nasa.gov/spaceimages/?search=&category=Mars'\n",
    "browser.visit(url)\n",
    "time.sleep(1)\n",
    "browser.links.find_by_partial_href(\"/images\").click()\n",
    "\n",
    "time.sleep(2)\n",
    "soup = BeautifulSoup(browser.html, 'html.parser')\n",
    "featured_image = soup.find(class_='BaseImage').get('src')\n",
    "featured_image"
   ]
  },
  {
   "cell_type": "code",
   "execution_count": null,
   "metadata": {},
   "outputs": [],
   "source": [
    "#not needed for new code block\n",
    "#featured_image = 'https://www.jpl.nasa.gov' + picture\n",
    "#featured_image\n"
   ]
  },
  {
   "cell_type": "code",
   "execution_count": null,
   "metadata": {},
   "outputs": [],
   "source": [
    "\n",
    "mars_data[\"featured_image\"] = featured_image"
   ]
  },
  {
   "cell_type": "code",
   "execution_count": null,
   "metadata": {},
   "outputs": [],
   "source": [
    "\n",
    "url = 'https://space-facts.com/mars/'\n",
    "\n",
    "facts = pd.read_html(url)\n",
    "\n",
    "facts_cleaned = facts[1]\n",
    "\n",
    "facts_cleaned.columns = [\"Description\" , \"Mars\", \"Earth\"]\n",
    "\n",
    "facts_cleaned"
   ]
  },
  {
   "cell_type": "code",
   "execution_count": null,
   "metadata": {},
   "outputs": [],
   "source": [
    "\n",
    "mars_table = facts_cleaned.to_html()\n",
    "\n",
    "mars_table\n",
    "\n",
    "mars_data[\"Facts\"] = mars_table"
   ]
  },
  {
   "cell_type": "code",
   "execution_count": null,
   "metadata": {},
   "outputs": [],
   "source": [
    "\n",
    "url = 'https://astrogeology.usgs.gov/search/results?q=hemisphere+enhanced&k1=target&v1=Mars'\n",
    "browser.visit(url)\n",
    "hemispheres = []\n",
    "\n",
    "for i in range(4):\n",
    "    \n",
    "    hemisphere = {}\n",
    "    \n",
    "    browser.find_by_css(\"a.product-item h3\")[i].click()\n",
    "    \n",
    "    soup = BeautifulSoup(browser.html, 'html.parser')\n",
    "    \n",
    "    title = soup.find(\"h2\", class_='title').get_text()\n",
    "    \n",
    "    img = soup.find(\"a\", text = \"Sample\").get(\"href\")\n",
    "    \n",
    "    hemisphere[\"title\"] = title\n",
    "    \n",
    "    hemisphere[\"img_url\"] = img\n",
    "    \n",
    "    hemispheres.append(hemisphere)\n",
    "    \n",
    "    browser.back()\n",
    "    \n",
    "hemispheres\n",
    "\n",
    "mars_data[\"Hemispheres\"] = hemispheres\n",
    "print(mars_data)"
   ]
  },
  {
   "cell_type": "code",
   "execution_count": null,
   "metadata": {},
   "outputs": [],
   "source": []
  }
 ],
 "metadata": {
  "kernelspec": {
   "display_name": "Python [conda env:PythonData]",
   "language": "python",
   "name": "conda-env-PythonData-py"
  },
  "language_info": {
   "codemirror_mode": {
    "name": "ipython",
    "version": 3
   },
   "file_extension": ".py",
   "mimetype": "text/x-python",
   "name": "python",
   "nbconvert_exporter": "python",
   "pygments_lexer": "ipython3",
   "version": "3.6.10"
  }
 },
 "nbformat": 4,
 "nbformat_minor": 4
}
